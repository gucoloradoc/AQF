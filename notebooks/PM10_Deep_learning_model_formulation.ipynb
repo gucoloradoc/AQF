{
 "cells": [
  {
   "cell_type": "markdown",
   "metadata": {},
   "source": [
    "# Deep learning model implementation: PM10\n",
    "Here the deep learning model is created, trained and tested."
   ]
  },
  {
   "cell_type": "code",
   "execution_count": 1,
   "metadata": {},
   "outputs": [],
   "source": [
    "import pandas as pd\n",
    "import numpy as np\n",
    "import tensorflow as tf"
   ]
  },
  {
   "cell_type": "code",
   "execution_count": 2,
   "metadata": {},
   "outputs": [],
   "source": [
    "#Adding the code folder to the search path of python\n",
    "from sys import path\n",
    "path.append('../code')"
   ]
  },
  {
   "cell_type": "code",
   "execution_count": null,
   "metadata": {},
   "outputs": [],
   "source": []
  },
  {
   "cell_type": "code",
   "execution_count": 3,
   "metadata": {},
   "outputs": [],
   "source": [
    "dframe=pd.read_csv(\"../data/Monterrey/imputed/data/NOROESTE.csv\", \n",
    "    parse_dates=[\"FECHA\"], infer_datetime_format=True).set_index(\"FECHA\")"
   ]
  },
  {
   "cell_type": "markdown",
   "metadata": {},
   "source": [
    "## Normalizing the data\n",
    "As the variables that we have are in different numeric scales, one of the tasks needed to obtain accurate prediction. This have impact in the loss function and the optimization algortihm that set the values of the deep neural network."
   ]
  },
  {
   "cell_type": "code",
   "execution_count": 4,
   "metadata": {},
   "outputs": [],
   "source": [
    "pollutants=list(dframe.columns)\n",
    "dframe_norm=dframe.copy()\n",
    "norm_guide={'CO':('max', 0.1),\n",
    "    'NO': ('max', 0.1),\n",
    "    'NO2': ('max', 0.1),\n",
    "    'NOX': ('max', 0.1),\n",
    "    'O3': ('max', 0.01),\n",
    "    'PM10': ('max', 0.1),\n",
    "    'PM2.5': ('max', 0.1),\n",
    "    'PRS': ('max', 0),\n",
    "    'RAINF': ('max', 0.001),\n",
    "    'RH': ('max', 0),\n",
    "    'SO2': ('max', 0.1),\n",
    "    'SR': ('max', 0),\n",
    "    'TOUT': ('max',0),\n",
    "    'WDR': ('max', 0),\n",
    "    'WSR': ('max', 0.1),\n",
    "    }\n",
    "\n",
    "norm_param=dict.fromkeys(norm_guide.keys())\n",
    "\n",
    "for p in pollutants:\n",
    "    if norm_guide[p][0]=='log':\n",
    "        dframe_norm[p]=np.log(dframe[p]+norm_guide[p][1])\n",
    "    elif norm_guide[p][0]=='mean':\n",
    "        dframe_norm[p]=(dframe[p]-dframe[p].mean())/dframe[p].std()\n",
    "        norm_param[p]=(dframe[p].mean(),dframe[p].std())\n",
    "    elif norm_guide[p][0]=='max':\n",
    "        dframe_norm[p]=(dframe[p]-dframe[p].min())/(dframe[p].max()-dframe[p].min())\n",
    "        norm_param[p]=(dframe[p].min(),dframe[p].max())\n",
    "    if norm_guide[p][0]=='none':\n",
    "        dframe_norm[p]=dframe[p]+norm_guide[p][1]\n"
   ]
  },
  {
   "cell_type": "code",
   "execution_count": 5,
   "metadata": {},
   "outputs": [
    {
     "data": {
      "text/plain": [
       "(52608, 15)"
      ]
     },
     "execution_count": 5,
     "metadata": {},
     "output_type": "execute_result"
    }
   ],
   "source": [
    "dframe_norm.shape"
   ]
  },
  {
   "cell_type": "markdown",
   "metadata": {},
   "source": [
    "## importing the generator functions\n",
    "With the complete data, we will use a generator to iterate over the time windows created of 72 hours and extract 24h of data to predict the next 24h."
   ]
  },
  {
   "cell_type": "code",
   "execution_count": 46,
   "metadata": {},
   "outputs": [],
   "source": [
    "from ANN_model import windows_tensor\n",
    "from tensorflow import keras\n",
    "class observations_generator(keras.utils.Sequence):\n",
    "    \"\"\"\n",
    "    Observation generator, it takes windows of 72 hours and from such widows it generates random observations, to predict 24 lead time taking 24 hours before.\n",
    "    \n",
    "    data_source is the tensor array of predictors and target variable\n",
    "    \n",
    "    target is the variable index to be predicted \n",
    "    \n",
    "    batch_size in the size of the batches to be generated\n",
    "    \"\"\"\n",
    "\n",
    "    def __init__(self, data_source, target, \n",
    "    samples_per_window=5, batch_size=64):\n",
    "        self.data_source=data_source\n",
    "        self.target=target\n",
    "        self.batch_size=batch_size\n",
    "        self.samples_per_window=samples_per_window\n",
    "        self.n = 0\n",
    "        self.max = self.__len__()\n",
    "        c=0\n",
    "        temp=0\n",
    "        self.indexes=[]\n",
    "        for i in range(0, int(self.data_source.shape[0]*self.samples_per_window)):\n",
    "            self.indexes.append((temp,np.random.choice(np.array(list(range(24,48))),size=1)[0]))\n",
    "            c=c+1\n",
    "            if c==self.samples_per_window:\n",
    "                c=0\n",
    "            if c==0:\n",
    "                temp+=1\n",
    "                \n",
    "    #Generate the tensor with\n",
    "    def __len__(self):\n",
    "        #Total lenght of the output\n",
    "        return(int(np.ceil(self.data_source.shape[0]*self.samples_per_window)))\n",
    "    \n",
    "    def __getitem__(self, idx):\n",
    "        ##Observations generator, Neural network input\n",
    "        self.x_batch = self.data_source[self.indexes[idx][0],list(range((self.indexes[idx][1]-23),self.indexes[idx][1]+1)),:]\n",
    "        self.y_batch = self.data_source[self.indexes[idx][0],int(self.indexes[idx][1]+24),self.target]\n",
    "        return np.array(self.x_batch), np.array(self.y_batch)\n",
    "    \n",
    "    def __next__(self):\n",
    "        if self.n >= self.max:\n",
    "           self.n = 0\n",
    "        result = self.__getitem__(self.n)\n",
    "        self.n += 1\n",
    "        return result\n",
    "\n"
   ]
  },
  {
   "cell_type": "code",
   "execution_count": 47,
   "metadata": {},
   "outputs": [
    {
     "data": {
      "text/html": [
       "<div>\n",
       "<style scoped>\n",
       "    .dataframe tbody tr th:only-of-type {\n",
       "        vertical-align: middle;\n",
       "    }\n",
       "\n",
       "    .dataframe tbody tr th {\n",
       "        vertical-align: top;\n",
       "    }\n",
       "\n",
       "    .dataframe thead th {\n",
       "        text-align: right;\n",
       "    }\n",
       "</style>\n",
       "<table border=\"1\" class=\"dataframe\">\n",
       "  <thead>\n",
       "    <tr style=\"text-align: right;\">\n",
       "      <th></th>\n",
       "      <th>CO</th>\n",
       "      <th>NO</th>\n",
       "      <th>NO2</th>\n",
       "      <th>NOX</th>\n",
       "      <th>O3</th>\n",
       "      <th>PM10</th>\n",
       "      <th>PM2.5</th>\n",
       "      <th>PRS</th>\n",
       "      <th>RAINF</th>\n",
       "      <th>RH</th>\n",
       "      <th>SO2</th>\n",
       "      <th>SR</th>\n",
       "      <th>TOUT</th>\n",
       "      <th>WDR</th>\n",
       "      <th>WSR</th>\n",
       "    </tr>\n",
       "    <tr>\n",
       "      <th>FECHA</th>\n",
       "      <th></th>\n",
       "      <th></th>\n",
       "      <th></th>\n",
       "      <th></th>\n",
       "      <th></th>\n",
       "      <th></th>\n",
       "      <th></th>\n",
       "      <th></th>\n",
       "      <th></th>\n",
       "      <th></th>\n",
       "      <th></th>\n",
       "      <th></th>\n",
       "      <th></th>\n",
       "      <th></th>\n",
       "      <th></th>\n",
       "    </tr>\n",
       "  </thead>\n",
       "  <tbody>\n",
       "    <tr>\n",
       "      <th>2012-01-01 00:00:00</th>\n",
       "      <td>0.201699</td>\n",
       "      <td>0.041417</td>\n",
       "      <td>0.396682</td>\n",
       "      <td>0.164166</td>\n",
       "      <td>0.035211</td>\n",
       "      <td>0.299725</td>\n",
       "      <td>0.018590</td>\n",
       "      <td>0.542857</td>\n",
       "      <td>1.692413e-19</td>\n",
       "      <td>0.308980</td>\n",
       "      <td>0.141463</td>\n",
       "      <td>3.812011e-17</td>\n",
       "      <td>0.450818</td>\n",
       "      <td>0.740785</td>\n",
       "      <td>0.154179</td>\n",
       "    </tr>\n",
       "    <tr>\n",
       "      <th>2012-01-01 01:00:00</th>\n",
       "      <td>0.504336</td>\n",
       "      <td>0.385230</td>\n",
       "      <td>0.414528</td>\n",
       "      <td>0.474127</td>\n",
       "      <td>0.056338</td>\n",
       "      <td>0.254708</td>\n",
       "      <td>0.021667</td>\n",
       "      <td>0.555555</td>\n",
       "      <td>1.692413e-19</td>\n",
       "      <td>0.339878</td>\n",
       "      <td>0.160976</td>\n",
       "      <td>3.812011e-17</td>\n",
       "      <td>0.426165</td>\n",
       "      <td>0.662217</td>\n",
       "      <td>0.054403</td>\n",
       "    </tr>\n",
       "    <tr>\n",
       "      <th>2012-01-01 02:00:00</th>\n",
       "      <td>0.243409</td>\n",
       "      <td>0.118263</td>\n",
       "      <td>0.350696</td>\n",
       "      <td>0.217372</td>\n",
       "      <td>0.028169</td>\n",
       "      <td>0.432777</td>\n",
       "      <td>0.023643</td>\n",
       "      <td>0.565079</td>\n",
       "      <td>1.692413e-19</td>\n",
       "      <td>0.339878</td>\n",
       "      <td>0.106341</td>\n",
       "      <td>3.871574e-17</td>\n",
       "      <td>0.414450</td>\n",
       "      <td>0.745275</td>\n",
       "      <td>0.120164</td>\n",
       "    </tr>\n",
       "    <tr>\n",
       "      <th>2012-01-01 03:00:00</th>\n",
       "      <td>0.322948</td>\n",
       "      <td>0.241267</td>\n",
       "      <td>0.336282</td>\n",
       "      <td>0.321575</td>\n",
       "      <td>0.042254</td>\n",
       "      <td>0.215692</td>\n",
       "      <td>0.034000</td>\n",
       "      <td>0.565079</td>\n",
       "      <td>1.692413e-19</td>\n",
       "      <td>0.339878</td>\n",
       "      <td>0.096585</td>\n",
       "      <td>4.050262e-17</td>\n",
       "      <td>0.410788</td>\n",
       "      <td>0.695889</td>\n",
       "      <td>0.183658</td>\n",
       "    </tr>\n",
       "    <tr>\n",
       "      <th>2012-01-01 04:00:00</th>\n",
       "      <td>0.122160</td>\n",
       "      <td>0.024950</td>\n",
       "      <td>0.269704</td>\n",
       "      <td>0.108753</td>\n",
       "      <td>0.049296</td>\n",
       "      <td>0.211691</td>\n",
       "      <td>0.016913</td>\n",
       "      <td>0.571428</td>\n",
       "      <td>1.692413e-19</td>\n",
       "      <td>0.278082</td>\n",
       "      <td>0.073171</td>\n",
       "      <td>3.812011e-17</td>\n",
       "      <td>0.429583</td>\n",
       "      <td>0.711603</td>\n",
       "      <td>0.249419</td>\n",
       "    </tr>\n",
       "  </tbody>\n",
       "</table>\n",
       "</div>"
      ],
      "text/plain": [
       "                           CO        NO       NO2       NOX        O3  \\\n",
       "FECHA                                                                   \n",
       "2012-01-01 00:00:00  0.201699  0.041417  0.396682  0.164166  0.035211   \n",
       "2012-01-01 01:00:00  0.504336  0.385230  0.414528  0.474127  0.056338   \n",
       "2012-01-01 02:00:00  0.243409  0.118263  0.350696  0.217372  0.028169   \n",
       "2012-01-01 03:00:00  0.322948  0.241267  0.336282  0.321575  0.042254   \n",
       "2012-01-01 04:00:00  0.122160  0.024950  0.269704  0.108753  0.049296   \n",
       "\n",
       "                         PM10     PM2.5       PRS         RAINF        RH  \\\n",
       "FECHA                                                                       \n",
       "2012-01-01 00:00:00  0.299725  0.018590  0.542857  1.692413e-19  0.308980   \n",
       "2012-01-01 01:00:00  0.254708  0.021667  0.555555  1.692413e-19  0.339878   \n",
       "2012-01-01 02:00:00  0.432777  0.023643  0.565079  1.692413e-19  0.339878   \n",
       "2012-01-01 03:00:00  0.215692  0.034000  0.565079  1.692413e-19  0.339878   \n",
       "2012-01-01 04:00:00  0.211691  0.016913  0.571428  1.692413e-19  0.278082   \n",
       "\n",
       "                          SO2            SR      TOUT       WDR       WSR  \n",
       "FECHA                                                                      \n",
       "2012-01-01 00:00:00  0.141463  3.812011e-17  0.450818  0.740785  0.154179  \n",
       "2012-01-01 01:00:00  0.160976  3.812011e-17  0.426165  0.662217  0.054403  \n",
       "2012-01-01 02:00:00  0.106341  3.871574e-17  0.414450  0.745275  0.120164  \n",
       "2012-01-01 03:00:00  0.096585  4.050262e-17  0.410788  0.695889  0.183658  \n",
       "2012-01-01 04:00:00  0.073171  3.812011e-17  0.429583  0.711603  0.249419  "
      ]
     },
     "execution_count": 47,
     "metadata": {},
     "output_type": "execute_result"
    }
   ],
   "source": [
    "dframe_norm.head()"
   ]
  },
  {
   "cell_type": "code",
   "execution_count": 48,
   "metadata": {},
   "outputs": [],
   "source": [
    "train_win,val_win,test_win=windows_tensor(dframe_norm, dframe_norm.columns.values)\n",
    "\n",
    "######\n",
    "###Creating the generators\n",
    "######\n",
    "\n",
    "train_gen=observations_generator(test_win,5)\n",
    "val_gen=observations_generator(val_win,5)\n",
    "test_win=observations_generator(val_win,5)"
   ]
  },
  {
   "cell_type": "code",
   "execution_count": 49,
   "metadata": {},
   "outputs": [
    {
     "data": {
      "text/plain": [
       "array(['CO', 'NO', 'NO2', 'NOX', 'O3', 'PM10', 'PM2.5', 'PRS', 'RAINF',\n",
       "       'RH', 'SO2', 'SR', 'TOUT', 'WDR', 'WSR'], dtype=object)"
      ]
     },
     "execution_count": 49,
     "metadata": {},
     "output_type": "execute_result"
    }
   ],
   "source": [
    "dframe.columns.values"
   ]
  },
  {
   "cell_type": "code",
   "execution_count": 50,
   "metadata": {},
   "outputs": [
    {
     "ename": "IndexError",
     "evalue": "too many indices for array",
     "output_type": "error",
     "traceback": [
      "\u001b[1;31m---------------------------------------------------------------------------\u001b[0m",
      "\u001b[1;31mIndexError\u001b[0m                                Traceback (most recent call last)",
      "\u001b[1;32m<ipython-input-50-b1d1d69163e1>\u001b[0m in \u001b[0;36m<module>\u001b[1;34m\u001b[0m\n\u001b[0;32m     20\u001b[0m \u001b[1;33m\u001b[0m\u001b[0m\n\u001b[0;32m     21\u001b[0m \u001b[1;31m#print(\"\\n Training set: \\n\")\u001b[0m\u001b[1;33m\u001b[0m\u001b[1;33m\u001b[0m\u001b[1;33m\u001b[0m\u001b[0m\n\u001b[1;32m---> 22\u001b[1;33m \u001b[0mtrain_naive_loss\u001b[0m\u001b[1;33m,\u001b[0m \u001b[0mtrain_naive_r2\u001b[0m \u001b[1;33m=\u001b[0m \u001b[0meval_naive_method\u001b[0m\u001b[1;33m(\u001b[0m\u001b[0mtrain_gen\u001b[0m\u001b[1;33m,\u001b[0m \u001b[1;36m511\u001b[0m\u001b[1;33m,\u001b[0m\u001b[1;36m5\u001b[0m\u001b[1;33m)\u001b[0m\u001b[1;33m\u001b[0m\u001b[1;33m\u001b[0m\u001b[0m\n\u001b[0m",
      "\u001b[1;32m<ipython-input-50-b1d1d69163e1>\u001b[0m in \u001b[0;36meval_naive_method\u001b[1;34m(gen, steps, var)\u001b[0m\n\u001b[0;32m      6\u001b[0m     \u001b[1;32mfor\u001b[0m \u001b[0mstep\u001b[0m \u001b[1;32min\u001b[0m \u001b[0mrange\u001b[0m\u001b[1;33m(\u001b[0m\u001b[0msteps\u001b[0m\u001b[1;33m)\u001b[0m\u001b[1;33m:\u001b[0m\u001b[1;33m\u001b[0m\u001b[1;33m\u001b[0m\u001b[0m\n\u001b[0;32m      7\u001b[0m         \u001b[0msamples\u001b[0m\u001b[1;33m,\u001b[0m \u001b[0mtargets\u001b[0m \u001b[1;33m=\u001b[0m \u001b[0mnext\u001b[0m\u001b[1;33m(\u001b[0m\u001b[0mgen\u001b[0m\u001b[1;33m)\u001b[0m\u001b[1;33m\u001b[0m\u001b[1;33m\u001b[0m\u001b[0m\n\u001b[1;32m----> 8\u001b[1;33m         \u001b[0mpreds\u001b[0m \u001b[1;33m=\u001b[0m \u001b[0msamples\u001b[0m\u001b[1;33m[\u001b[0m\u001b[1;33m:\u001b[0m\u001b[1;33m,\u001b[0m \u001b[1;33m-\u001b[0m\u001b[1;36m1\u001b[0m\u001b[1;33m,\u001b[0m \u001b[0mvar\u001b[0m\u001b[1;33m]\u001b[0m \u001b[1;31m#Last index corresponds to PM10(5), PM2.5(6)\u001b[0m\u001b[1;33m\u001b[0m\u001b[1;33m\u001b[0m\u001b[0m\n\u001b[0m\u001b[0;32m      9\u001b[0m         \u001b[0mlogmse\u001b[0m \u001b[1;33m=\u001b[0m \u001b[0mnp\u001b[0m\u001b[1;33m.\u001b[0m\u001b[0mlog\u001b[0m\u001b[1;33m(\u001b[0m\u001b[0mnp\u001b[0m\u001b[1;33m.\u001b[0m\u001b[0mmean\u001b[0m\u001b[1;33m(\u001b[0m\u001b[0mnp\u001b[0m\u001b[1;33m.\u001b[0m\u001b[0msquare\u001b[0m\u001b[1;33m(\u001b[0m\u001b[0mpreds\u001b[0m\u001b[1;33m-\u001b[0m\u001b[0mtargets\u001b[0m\u001b[1;33m)\u001b[0m\u001b[1;33m)\u001b[0m\u001b[1;33m)\u001b[0m\u001b[1;33m\u001b[0m\u001b[1;33m\u001b[0m\u001b[0m\n\u001b[0;32m     10\u001b[0m         \u001b[1;31m#mae = np.mean(np.abs(preds - targets))\u001b[0m\u001b[1;33m\u001b[0m\u001b[1;33m\u001b[0m\u001b[1;33m\u001b[0m\u001b[0m\n",
      "\u001b[1;31mIndexError\u001b[0m: too many indices for array"
     ]
    }
   ],
   "source": [
    "#%% Naieve Method, redefinition\n",
    "def eval_naive_method(gen, steps,var):\n",
    "    batch_logmse = []\n",
    "    tar = []\n",
    "    pred = []\n",
    "    for step in range(steps):\n",
    "        samples, targets = next(gen)\n",
    "        preds = samples[:, -1, var] #Last index corresponds to PM10(5), PM2.5(6)\n",
    "        logmse = np.log(np.mean(np.square(preds-targets)))\n",
    "        #mae = np.mean(np.abs(preds - targets))\n",
    "        batch_logmse.append(logmse)\n",
    "        tar.extend(targets)\n",
    "        pred.extend(preds)\n",
    "    print(\"From naive assumption that the pollutant concentration\"\n",
    "     \"\\n will be the same that 24h before: \\n\")\n",
    "    print(\"log(mse)= \"+str(round(np.mean(batch_logmse),3)))\n",
    "    from sklearn.metrics import r2_score\n",
    "    print(\"r2= \"+str(round(r2_score(tar,pred),5)))\n",
    "    return round(np.mean(batch_logmse),3), round(r2_score(tar,pred),5)\n",
    "\n",
    "#print(\"\\n Training set: \\n\")\n",
    "train_naive_loss, train_naive_r2 = eval_naive_method(train_gen, 511,5)\n"
   ]
  },
  {
   "cell_type": "code",
   "execution_count": 40,
   "metadata": {},
   "outputs": [
    {
     "data": {
      "text/plain": [
       "__main__.observations_generator"
      ]
     },
     "execution_count": 40,
     "metadata": {},
     "output_type": "execute_result"
    }
   ],
   "source": [
    "type(train_gen)"
   ]
  },
  {
   "cell_type": "code",
   "execution_count": null,
   "metadata": {},
   "outputs": [],
   "source": []
  }
 ],
 "metadata": {
  "kernelspec": {
   "display_name": "Python 3",
   "language": "python",
   "name": "python3"
  },
  "language_info": {
   "codemirror_mode": {
    "name": "ipython",
    "version": 3
   },
   "file_extension": ".py",
   "mimetype": "text/x-python",
   "name": "python",
   "nbconvert_exporter": "python",
   "pygments_lexer": "ipython3",
   "version": "3.7.4"
  }
 },
 "nbformat": 4,
 "nbformat_minor": 4
}
