{
 "cells": [
  {
   "cell_type": "markdown",
   "metadata": {},
   "source": [
    "# Deep learning model implementation: PM10\n",
    "Here the deep learning model is created, trained and tested."
   ]
  },
  {
   "cell_type": "code",
   "execution_count": 1,
   "metadata": {},
   "outputs": [],
   "source": [
    "import pandas as pd\n",
    "import numpy as np\n",
    "import tensorflow as tf"
   ]
  },
  {
   "cell_type": "code",
   "execution_count": 2,
   "metadata": {},
   "outputs": [],
   "source": [
    "#Adding the code folder to the search path of python\n",
    "from sys import path\n",
    "path.append('../code')"
   ]
  },
  {
   "cell_type": "code",
   "execution_count": null,
   "metadata": {},
   "outputs": [],
   "source": []
  },
  {
   "cell_type": "code",
   "execution_count": 3,
   "metadata": {},
   "outputs": [],
   "source": [
    "dframe=pd.read_csv(\"../data/Monterrey/imputed/data/NOROESTE.csv\", \n",
    "    parse_dates=[\"FECHA\"], infer_datetime_format=True).set_index(\"FECHA\")"
   ]
  },
  {
   "cell_type": "markdown",
   "metadata": {},
   "source": [
    "## Normalizing the data\n",
    "As the variables that we have are in different numeric scales, one of the tasks needed to obtain accurate prediction."
   ]
  },
  {
   "cell_type": "code",
   "execution_count": 4,
   "metadata": {},
   "outputs": [],
   "source": [
    "pollutants=list(dframe.columns)\n",
    "dframe_norm=dframe.copy()\n",
    "norm_guide={'CO':('max', 0.1),\n",
    "    'NO': ('max', 0.1),\n",
    "    'NO2': ('max', 0.1),\n",
    "    'NOX': ('max', 0.1),\n",
    "    'O3': ('max', 0.01),\n",
    "    'PM10': ('max', 0.1),\n",
    "    'PM2.5': ('max', 0.1),\n",
    "    'PRS': ('max', 0),\n",
    "    'RAINF': ('max', 0.001),\n",
    "    'RH': ('max', 0),\n",
    "    'SO2': ('max', 0.1),\n",
    "    'SR': ('max', 0),\n",
    "    'TOUT': ('max',0),\n",
    "    'WDR': ('max', 0),\n",
    "    'WSR': ('max', 0.1),\n",
    "    }\n",
    "\n",
    "norm_param=dict.fromkeys(norm_guide.keys())\n",
    "\n",
    "for p in pollutants:\n",
    "    if norm_guide[p][0]=='log':\n",
    "        dframe_norm[p]=np.log(dframe[p]+norm_guide[p][1])\n",
    "    elif norm_guide[p][0]=='mean':\n",
    "        dframe_norm[p]=(dframe[p]-dframe[p].mean())/dframe[p].std()\n",
    "        norm_param[p]=(dframe[p].mean(),dframe[p].std())\n",
    "    elif norm_guide[p][0]=='max':\n",
    "        dframe_norm[p]=(dframe[p]-dframe[p].min())/(dframe[p].max()-dframe[p].min())\n",
    "        norm_param[p]=(dframe[p].min(),dframe[p].max())\n",
    "    if norm_guide[p][0]=='none':\n",
    "        dframe_norm[p]=dframe[p]+norm_guide[p][1]\n"
   ]
  },
  {
   "cell_type": "code",
   "execution_count": 5,
   "metadata": {},
   "outputs": [
    {
     "data": {
      "text/plain": [
       "(52608, 15)"
      ]
     },
     "execution_count": 5,
     "metadata": {},
     "output_type": "execute_result"
    }
   ],
   "source": [
    "dframe_norm.shape"
   ]
  },
  {
   "cell_type": "markdown",
   "metadata": {},
   "source": [
    "## importing the generator functions\n",
    "With the complete data, we will use a generator to iterate over the time windows created of 72 hours and extract 24h of data to predict the next 24h."
   ]
  },
  {
   "cell_type": "code",
   "execution_count": 6,
   "metadata": {},
   "outputs": [],
   "source": [
    "from ANN_model import windows_tensor, observations_generator"
   ]
  },
  {
   "cell_type": "code",
   "execution_count": null,
   "metadata": {},
   "outputs": [],
   "source": []
  },
  {
   "cell_type": "code",
   "execution_count": 8,
   "metadata": {},
   "outputs": [
    {
     "data": {
      "text/html": [
       "<div>\n",
       "<style scoped>\n",
       "    .dataframe tbody tr th:only-of-type {\n",
       "        vertical-align: middle;\n",
       "    }\n",
       "\n",
       "    .dataframe tbody tr th {\n",
       "        vertical-align: top;\n",
       "    }\n",
       "\n",
       "    .dataframe thead th {\n",
       "        text-align: right;\n",
       "    }\n",
       "</style>\n",
       "<table border=\"1\" class=\"dataframe\">\n",
       "  <thead>\n",
       "    <tr style=\"text-align: right;\">\n",
       "      <th></th>\n",
       "      <th>CO</th>\n",
       "      <th>NO</th>\n",
       "      <th>NO2</th>\n",
       "      <th>NOX</th>\n",
       "      <th>O3</th>\n",
       "      <th>PM10</th>\n",
       "      <th>PM2.5</th>\n",
       "      <th>PRS</th>\n",
       "      <th>RAINF</th>\n",
       "      <th>RH</th>\n",
       "      <th>SO2</th>\n",
       "      <th>SR</th>\n",
       "      <th>TOUT</th>\n",
       "      <th>WDR</th>\n",
       "      <th>WSR</th>\n",
       "    </tr>\n",
       "    <tr>\n",
       "      <th>FECHA</th>\n",
       "      <th></th>\n",
       "      <th></th>\n",
       "      <th></th>\n",
       "      <th></th>\n",
       "      <th></th>\n",
       "      <th></th>\n",
       "      <th></th>\n",
       "      <th></th>\n",
       "      <th></th>\n",
       "      <th></th>\n",
       "      <th></th>\n",
       "      <th></th>\n",
       "      <th></th>\n",
       "      <th></th>\n",
       "      <th></th>\n",
       "    </tr>\n",
       "  </thead>\n",
       "  <tbody>\n",
       "    <tr>\n",
       "      <th>2012-01-01 00:00:00</th>\n",
       "      <td>0.201699</td>\n",
       "      <td>0.041417</td>\n",
       "      <td>0.396682</td>\n",
       "      <td>0.164166</td>\n",
       "      <td>0.035211</td>\n",
       "      <td>0.299725</td>\n",
       "      <td>0.018590</td>\n",
       "      <td>0.542857</td>\n",
       "      <td>1.692413e-19</td>\n",
       "      <td>0.308980</td>\n",
       "      <td>0.141463</td>\n",
       "      <td>3.812011e-17</td>\n",
       "      <td>0.450818</td>\n",
       "      <td>0.740785</td>\n",
       "      <td>0.154179</td>\n",
       "    </tr>\n",
       "    <tr>\n",
       "      <th>2012-01-01 01:00:00</th>\n",
       "      <td>0.504336</td>\n",
       "      <td>0.385230</td>\n",
       "      <td>0.414528</td>\n",
       "      <td>0.474127</td>\n",
       "      <td>0.056338</td>\n",
       "      <td>0.254708</td>\n",
       "      <td>0.021667</td>\n",
       "      <td>0.555555</td>\n",
       "      <td>1.692413e-19</td>\n",
       "      <td>0.339878</td>\n",
       "      <td>0.160976</td>\n",
       "      <td>3.812011e-17</td>\n",
       "      <td>0.426165</td>\n",
       "      <td>0.662217</td>\n",
       "      <td>0.054403</td>\n",
       "    </tr>\n",
       "    <tr>\n",
       "      <th>2012-01-01 02:00:00</th>\n",
       "      <td>0.243409</td>\n",
       "      <td>0.118263</td>\n",
       "      <td>0.350696</td>\n",
       "      <td>0.217372</td>\n",
       "      <td>0.028169</td>\n",
       "      <td>0.432777</td>\n",
       "      <td>0.023643</td>\n",
       "      <td>0.565079</td>\n",
       "      <td>1.692413e-19</td>\n",
       "      <td>0.339878</td>\n",
       "      <td>0.106341</td>\n",
       "      <td>3.871574e-17</td>\n",
       "      <td>0.414450</td>\n",
       "      <td>0.745275</td>\n",
       "      <td>0.120164</td>\n",
       "    </tr>\n",
       "    <tr>\n",
       "      <th>2012-01-01 03:00:00</th>\n",
       "      <td>0.322948</td>\n",
       "      <td>0.241267</td>\n",
       "      <td>0.336282</td>\n",
       "      <td>0.321575</td>\n",
       "      <td>0.042254</td>\n",
       "      <td>0.215692</td>\n",
       "      <td>0.034000</td>\n",
       "      <td>0.565079</td>\n",
       "      <td>1.692413e-19</td>\n",
       "      <td>0.339878</td>\n",
       "      <td>0.096585</td>\n",
       "      <td>4.050262e-17</td>\n",
       "      <td>0.410788</td>\n",
       "      <td>0.695889</td>\n",
       "      <td>0.183658</td>\n",
       "    </tr>\n",
       "    <tr>\n",
       "      <th>2012-01-01 04:00:00</th>\n",
       "      <td>0.122160</td>\n",
       "      <td>0.024950</td>\n",
       "      <td>0.269704</td>\n",
       "      <td>0.108753</td>\n",
       "      <td>0.049296</td>\n",
       "      <td>0.211691</td>\n",
       "      <td>0.016913</td>\n",
       "      <td>0.571428</td>\n",
       "      <td>1.692413e-19</td>\n",
       "      <td>0.278082</td>\n",
       "      <td>0.073171</td>\n",
       "      <td>3.812011e-17</td>\n",
       "      <td>0.429583</td>\n",
       "      <td>0.711603</td>\n",
       "      <td>0.249419</td>\n",
       "    </tr>\n",
       "  </tbody>\n",
       "</table>\n",
       "</div>"
      ],
      "text/plain": [
       "                           CO        NO       NO2       NOX        O3  \\\n",
       "FECHA                                                                   \n",
       "2012-01-01 00:00:00  0.201699  0.041417  0.396682  0.164166  0.035211   \n",
       "2012-01-01 01:00:00  0.504336  0.385230  0.414528  0.474127  0.056338   \n",
       "2012-01-01 02:00:00  0.243409  0.118263  0.350696  0.217372  0.028169   \n",
       "2012-01-01 03:00:00  0.322948  0.241267  0.336282  0.321575  0.042254   \n",
       "2012-01-01 04:00:00  0.122160  0.024950  0.269704  0.108753  0.049296   \n",
       "\n",
       "                         PM10     PM2.5       PRS         RAINF        RH  \\\n",
       "FECHA                                                                       \n",
       "2012-01-01 00:00:00  0.299725  0.018590  0.542857  1.692413e-19  0.308980   \n",
       "2012-01-01 01:00:00  0.254708  0.021667  0.555555  1.692413e-19  0.339878   \n",
       "2012-01-01 02:00:00  0.432777  0.023643  0.565079  1.692413e-19  0.339878   \n",
       "2012-01-01 03:00:00  0.215692  0.034000  0.565079  1.692413e-19  0.339878   \n",
       "2012-01-01 04:00:00  0.211691  0.016913  0.571428  1.692413e-19  0.278082   \n",
       "\n",
       "                          SO2            SR      TOUT       WDR       WSR  \n",
       "FECHA                                                                      \n",
       "2012-01-01 00:00:00  0.141463  3.812011e-17  0.450818  0.740785  0.154179  \n",
       "2012-01-01 01:00:00  0.160976  3.812011e-17  0.426165  0.662217  0.054403  \n",
       "2012-01-01 02:00:00  0.106341  3.871574e-17  0.414450  0.745275  0.120164  \n",
       "2012-01-01 03:00:00  0.096585  4.050262e-17  0.410788  0.695889  0.183658  \n",
       "2012-01-01 04:00:00  0.073171  3.812011e-17  0.429583  0.711603  0.249419  "
      ]
     },
     "execution_count": 8,
     "metadata": {},
     "output_type": "execute_result"
    }
   ],
   "source": [
    "dframe_norm.head()"
   ]
  },
  {
   "cell_type": "code",
   "execution_count": 9,
   "metadata": {},
   "outputs": [],
   "source": [
    "#Testing zone\n",
    "#Testing the windows generator (working)\n",
    "\n",
    "train_win,val_win,test_win=windows_tensor(dframe_norm, dframe_norm.columns.values)\n",
    "\n",
    "######\n",
    "###Testing the observation generator \n",
    "######\n",
    "\n",
    "#test_out=list(observations_generator(train_win,2))\n"
   ]
  },
  {
   "cell_type": "code",
   "execution_count": 10,
   "metadata": {},
   "outputs": [
    {
     "data": {
      "text/plain": [
       "(511, 72, 15)"
      ]
     },
     "execution_count": 10,
     "metadata": {},
     "output_type": "execute_result"
    }
   ],
   "source": [
    "train_win.shape"
   ]
  },
  {
   "cell_type": "code",
   "execution_count": 11,
   "metadata": {},
   "outputs": [
    {
     "data": {
      "text/plain": [
       "array(['CO', 'NO', 'NO2', 'NOX', 'O3', 'PM10', 'PM2.5', 'PRS', 'RAINF',\n",
       "       'RH', 'SO2', 'SR', 'TOUT', 'WDR', 'WSR'], dtype=object)"
      ]
     },
     "execution_count": 11,
     "metadata": {},
     "output_type": "execute_result"
    }
   ],
   "source": [
    "dframe.columns.values"
   ]
  },
  {
   "cell_type": "code",
   "execution_count": 36,
   "metadata": {},
   "outputs": [
    {
     "data": {
      "text/plain": [
       "array(706.14144737)"
      ]
     },
     "execution_count": 36,
     "metadata": {},
     "output_type": "execute_result"
    }
   ],
   "source": [
    "(test_out[0][1])"
   ]
  },
  {
   "cell_type": "code",
   "execution_count": 24,
   "metadata": {},
   "outputs": [
    {
     "data": {
      "text/plain": [
       "list"
      ]
     },
     "execution_count": 24,
     "metadata": {},
     "output_type": "execute_result"
    }
   ],
   "source": [
    "type(test_out)"
   ]
  },
  {
   "cell_type": "code",
   "execution_count": null,
   "metadata": {},
   "outputs": [],
   "source": []
  }
 ],
 "metadata": {
  "kernelspec": {
   "display_name": "Python 3",
   "language": "python",
   "name": "python3"
  },
  "language_info": {
   "codemirror_mode": {
    "name": "ipython",
    "version": 3
   },
   "file_extension": ".py",
   "mimetype": "text/x-python",
   "name": "python",
   "nbconvert_exporter": "python",
   "pygments_lexer": "ipython3",
   "version": "3.7.6"
  }
 },
 "nbformat": 4,
 "nbformat_minor": 4
}
