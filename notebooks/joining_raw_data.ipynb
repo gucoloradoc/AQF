{
 "cells": [
  {
   "cell_type": "markdown",
   "metadata": {},
   "source": [
    "# Data Merge for data cleansing and analysis\n",
    "Raw data provided by the local government is processed and packed in a binary pickle file located in the processed data folder."
   ]
  },
  {
   "cell_type": "markdown",
   "metadata": {},
   "source": [
    "## Importing the raw data, exploratory data analysis and general statistics of our data\n",
    "Here we are going to import the data as it is provided by the devices installed all over the Metropolitan Area of Monterrey.\n"
   ]
  },
  {
   "cell_type": "code",
   "execution_count": 22,
   "metadata": {},
   "outputs": [],
   "source": [
    "## General libraries for dataframe handling, numeric operations and plotting\n",
    "import pandas as pd\n",
    "import numpy as np\n",
    "\n",
    "##Libraries for visualization in Jupyter\n"
   ]
  },
  {
   "cell_type": "code",
   "execution_count": 2,
   "metadata": {},
   "outputs": [],
   "source": [
    "#Adding the code folder to the search path of python\n",
    "from sys import path\n",
    "path.append('../code')"
   ]
  },
  {
   "cell_type": "code",
   "execution_count": 43,
   "metadata": {},
   "outputs": [],
   "source": [
    "import os\n",
    "from datacleaning import dfretrival\n",
    "data_path='../data/Monterrey'\n",
    "data_processed=os.path.join(data_path,'processed')\n",
    "raw_path=os.path.join(data_path,'raw')"
   ]
  },
  {
   "cell_type": "code",
   "execution_count": 19,
   "metadata": {},
   "outputs": [
    {
     "name": "stderr",
     "output_type": "stream",
     "text": [
      "C:\\Users\\Gerson Colorado\\.conda\\envs\\tf2\\lib\\site-packages\\pandas\\core\\generic.py:3936: PerformanceWarning: dropping on a non-lexsorted multi-index without a level parameter may impact performance.\n",
      "  obj = obj._drop_axis(labels, axis, level=level, errors=errors)\n"
     ]
    }
   ],
   "source": [
    "dataframes=[]\n",
    "for file in os.listdir(raw_path):\n",
    "    if file.endswith('.xlsx'):\n",
    "        dataframes.append(dfretrival(raw_path,file))\n",
    "    else:\n",
    "        continue"
   ]
  },
  {
   "cell_type": "code",
   "execution_count": 23,
   "metadata": {},
   "outputs": [
    {
     "data": {
      "text/plain": [
       "(52608, 195)"
      ]
     },
     "execution_count": 23,
     "metadata": {},
     "output_type": "execute_result"
    }
   ],
   "source": [
    "all_raw_data=pd.concat(dataframes)\n",
    "all_raw_data.shape"
   ]
  },
  {
   "cell_type": "code",
   "execution_count": 35,
   "metadata": {},
   "outputs": [
    {
     "data": {
      "text/plain": [
       "35"
      ]
     },
     "execution_count": 35,
     "metadata": {},
     "output_type": "execute_result"
    }
   ],
   "source": [
    "#Random value strings in 2012 and 2013 (34 observations)\n",
    "strange_strings=(all_raw_data.applymap(type)==type('s'))\n",
    "strange_strings.sum().sum()"
   ]
  },
  {
   "cell_type": "code",
   "execution_count": 38,
   "metadata": {},
   "outputs": [],
   "source": [
    "all_raw_data.loc[strange_strings.sum(axis=1)>0,strange_strings.sum()>0]=all_raw_data.loc[strange_strings.sum(axis=1)>0,strange_strings.sum()>0].applymap(lambda x: np.nan if type(x)==type('s') else x)"
   ]
  },
  {
   "cell_type": "code",
   "execution_count": 39,
   "metadata": {},
   "outputs": [
    {
     "data": {
      "text/plain": [
       "0"
      ]
     },
     "execution_count": 39,
     "metadata": {},
     "output_type": "execute_result"
    }
   ],
   "source": [
    "(all_raw_data.applymap(type)==type('s')).sum().sum()"
   ]
  },
  {
   "cell_type": "code",
   "execution_count": 41,
   "metadata": {},
   "outputs": [],
   "source": [
    "#Some functions requiere all the values to be float\n",
    "strange_ints=(all_raw_data.applymap(type)==type(1))\n",
    "all_raw_data=all_raw_data.applymap(np.vectorize(float))\n",
    "all_raw_data.loc[strange_ints.sum(axis=1)>0,strange_ints.sum()>0]=all_raw_data.loc[strange_ints.sum(axis=1)>0,strange_ints.sum()>0].applymap(lambda x: float(x) if type(x)==type(1) else x)"
   ]
  },
  {
   "cell_type": "code",
   "execution_count": 42,
   "metadata": {},
   "outputs": [
    {
     "data": {
      "text/html": [
       "<div>\n",
       "<style scoped>\n",
       "    .dataframe tbody tr th:only-of-type {\n",
       "        vertical-align: middle;\n",
       "    }\n",
       "\n",
       "    .dataframe tbody tr th {\n",
       "        vertical-align: top;\n",
       "    }\n",
       "\n",
       "    .dataframe thead tr th {\n",
       "        text-align: left;\n",
       "    }\n",
       "\n",
       "    .dataframe thead tr:last-of-type th {\n",
       "        text-align: right;\n",
       "    }\n",
       "</style>\n",
       "<table border=\"1\" class=\"dataframe\">\n",
       "  <thead>\n",
       "    <tr>\n",
       "      <th>ESTACION</th>\n",
       "      <th colspan=\"10\" halign=\"left\">CENTRO</th>\n",
       "      <th>...</th>\n",
       "      <th colspan=\"10\" halign=\"left\">SUROESTE2</th>\n",
       "    </tr>\n",
       "    <tr>\n",
       "      <th>MEDIDA</th>\n",
       "      <th>CO</th>\n",
       "      <th>NO</th>\n",
       "      <th>NO2</th>\n",
       "      <th>NOX</th>\n",
       "      <th>O3</th>\n",
       "      <th>PM10</th>\n",
       "      <th>PM2.5</th>\n",
       "      <th>PRS</th>\n",
       "      <th>RAINF</th>\n",
       "      <th>RH</th>\n",
       "      <th>...</th>\n",
       "      <th>PM10</th>\n",
       "      <th>PM2.5</th>\n",
       "      <th>PRS</th>\n",
       "      <th>RAINF</th>\n",
       "      <th>RH</th>\n",
       "      <th>SO2</th>\n",
       "      <th>SR</th>\n",
       "      <th>TOUT</th>\n",
       "      <th>WDR</th>\n",
       "      <th>WSR</th>\n",
       "    </tr>\n",
       "    <tr>\n",
       "      <th>FECHA</th>\n",
       "      <th></th>\n",
       "      <th></th>\n",
       "      <th></th>\n",
       "      <th></th>\n",
       "      <th></th>\n",
       "      <th></th>\n",
       "      <th></th>\n",
       "      <th></th>\n",
       "      <th></th>\n",
       "      <th></th>\n",
       "      <th></th>\n",
       "      <th></th>\n",
       "      <th></th>\n",
       "      <th></th>\n",
       "      <th></th>\n",
       "      <th></th>\n",
       "      <th></th>\n",
       "      <th></th>\n",
       "      <th></th>\n",
       "      <th></th>\n",
       "      <th></th>\n",
       "    </tr>\n",
       "  </thead>\n",
       "  <tbody>\n",
       "    <tr>\n",
       "      <th>2012-01-01 00:00:00</th>\n",
       "      <td>1.85</td>\n",
       "      <td>25.2</td>\n",
       "      <td>57.6</td>\n",
       "      <td>82.8</td>\n",
       "      <td>4.0</td>\n",
       "      <td>166.0</td>\n",
       "      <td>115.0</td>\n",
       "      <td>722.399985</td>\n",
       "      <td>0.0</td>\n",
       "      <td>36.0</td>\n",
       "      <td>...</td>\n",
       "      <td>NaN</td>\n",
       "      <td>NaN</td>\n",
       "      <td>NaN</td>\n",
       "      <td>NaN</td>\n",
       "      <td>NaN</td>\n",
       "      <td>NaN</td>\n",
       "      <td>NaN</td>\n",
       "      <td>NaN</td>\n",
       "      <td>NaN</td>\n",
       "      <td>NaN</td>\n",
       "    </tr>\n",
       "    <tr>\n",
       "      <th>2012-01-01 01:00:00</th>\n",
       "      <td>1.93</td>\n",
       "      <td>23.7</td>\n",
       "      <td>57.2</td>\n",
       "      <td>80.9</td>\n",
       "      <td>3.0</td>\n",
       "      <td>150.0</td>\n",
       "      <td>105.0</td>\n",
       "      <td>722.599985</td>\n",
       "      <td>0.0</td>\n",
       "      <td>38.0</td>\n",
       "      <td>...</td>\n",
       "      <td>NaN</td>\n",
       "      <td>NaN</td>\n",
       "      <td>NaN</td>\n",
       "      <td>NaN</td>\n",
       "      <td>NaN</td>\n",
       "      <td>NaN</td>\n",
       "      <td>NaN</td>\n",
       "      <td>NaN</td>\n",
       "      <td>NaN</td>\n",
       "      <td>NaN</td>\n",
       "    </tr>\n",
       "    <tr>\n",
       "      <th>2012-01-01 02:00:00</th>\n",
       "      <td>1.97</td>\n",
       "      <td>32.7</td>\n",
       "      <td>55.3</td>\n",
       "      <td>88.0</td>\n",
       "      <td>3.0</td>\n",
       "      <td>165.0</td>\n",
       "      <td>126.0</td>\n",
       "      <td>722.899985</td>\n",
       "      <td>0.0</td>\n",
       "      <td>39.0</td>\n",
       "      <td>...</td>\n",
       "      <td>NaN</td>\n",
       "      <td>NaN</td>\n",
       "      <td>NaN</td>\n",
       "      <td>NaN</td>\n",
       "      <td>NaN</td>\n",
       "      <td>NaN</td>\n",
       "      <td>NaN</td>\n",
       "      <td>NaN</td>\n",
       "      <td>NaN</td>\n",
       "      <td>NaN</td>\n",
       "    </tr>\n",
       "    <tr>\n",
       "      <th>2012-01-01 03:00:00</th>\n",
       "      <td>1.39</td>\n",
       "      <td>17.7</td>\n",
       "      <td>46.1</td>\n",
       "      <td>63.8</td>\n",
       "      <td>3.0</td>\n",
       "      <td>158.0</td>\n",
       "      <td>92.0</td>\n",
       "      <td>722.799985</td>\n",
       "      <td>0.0</td>\n",
       "      <td>36.0</td>\n",
       "      <td>...</td>\n",
       "      <td>NaN</td>\n",
       "      <td>NaN</td>\n",
       "      <td>NaN</td>\n",
       "      <td>NaN</td>\n",
       "      <td>NaN</td>\n",
       "      <td>NaN</td>\n",
       "      <td>NaN</td>\n",
       "      <td>NaN</td>\n",
       "      <td>NaN</td>\n",
       "      <td>NaN</td>\n",
       "    </tr>\n",
       "    <tr>\n",
       "      <th>2012-01-01 04:00:00</th>\n",
       "      <td>1.13</td>\n",
       "      <td>11.9</td>\n",
       "      <td>42.5</td>\n",
       "      <td>54.4</td>\n",
       "      <td>3.0</td>\n",
       "      <td>101.0</td>\n",
       "      <td>48.0</td>\n",
       "      <td>723.199985</td>\n",
       "      <td>0.0</td>\n",
       "      <td>35.0</td>\n",
       "      <td>...</td>\n",
       "      <td>NaN</td>\n",
       "      <td>NaN</td>\n",
       "      <td>NaN</td>\n",
       "      <td>NaN</td>\n",
       "      <td>NaN</td>\n",
       "      <td>NaN</td>\n",
       "      <td>NaN</td>\n",
       "      <td>NaN</td>\n",
       "      <td>NaN</td>\n",
       "      <td>NaN</td>\n",
       "    </tr>\n",
       "  </tbody>\n",
       "</table>\n",
       "<p>5 rows × 195 columns</p>\n",
       "</div>"
      ],
      "text/plain": [
       "ESTACION            CENTRO                                                   \\\n",
       "MEDIDA                  CO    NO   NO2   NOX   O3   PM10  PM2.5         PRS   \n",
       "FECHA                                                                         \n",
       "2012-01-01 00:00:00   1.85  25.2  57.6  82.8  4.0  166.0  115.0  722.399985   \n",
       "2012-01-01 01:00:00   1.93  23.7  57.2  80.9  3.0  150.0  105.0  722.599985   \n",
       "2012-01-01 02:00:00   1.97  32.7  55.3  88.0  3.0  165.0  126.0  722.899985   \n",
       "2012-01-01 03:00:00   1.39  17.7  46.1  63.8  3.0  158.0   92.0  722.799985   \n",
       "2012-01-01 04:00:00   1.13  11.9  42.5  54.4  3.0  101.0   48.0  723.199985   \n",
       "\n",
       "ESTACION                         ... SUROESTE2                              \\\n",
       "MEDIDA              RAINF    RH  ...      PM10 PM2.5 PRS RAINF  RH SO2  SR   \n",
       "FECHA                            ...                                         \n",
       "2012-01-01 00:00:00   0.0  36.0  ...       NaN   NaN NaN   NaN NaN NaN NaN   \n",
       "2012-01-01 01:00:00   0.0  38.0  ...       NaN   NaN NaN   NaN NaN NaN NaN   \n",
       "2012-01-01 02:00:00   0.0  39.0  ...       NaN   NaN NaN   NaN NaN NaN NaN   \n",
       "2012-01-01 03:00:00   0.0  36.0  ...       NaN   NaN NaN   NaN NaN NaN NaN   \n",
       "2012-01-01 04:00:00   0.0  35.0  ...       NaN   NaN NaN   NaN NaN NaN NaN   \n",
       "\n",
       "ESTACION                          \n",
       "MEDIDA              TOUT WDR WSR  \n",
       "FECHA                             \n",
       "2012-01-01 00:00:00  NaN NaN NaN  \n",
       "2012-01-01 01:00:00  NaN NaN NaN  \n",
       "2012-01-01 02:00:00  NaN NaN NaN  \n",
       "2012-01-01 03:00:00  NaN NaN NaN  \n",
       "2012-01-01 04:00:00  NaN NaN NaN  \n",
       "\n",
       "[5 rows x 195 columns]"
      ]
     },
     "execution_count": 42,
     "metadata": {},
     "output_type": "execute_result"
    }
   ],
   "source": [
    "all_raw_data.head()"
   ]
  },
  {
   "cell_type": "code",
   "execution_count": 45,
   "metadata": {},
   "outputs": [],
   "source": [
    "all_raw_data.to_pickle(os.path.join(data_processed,'AMMfull.pkl'))"
   ]
  }
 ],
 "metadata": {
  "kernelspec": {
   "display_name": "Python 3",
   "language": "python",
   "name": "python3"
  },
  "language_info": {
   "codemirror_mode": {
    "name": "ipython",
    "version": 3
   },
   "file_extension": ".py",
   "mimetype": "text/x-python",
   "name": "python",
   "nbconvert_exporter": "python",
   "pygments_lexer": "ipython3",
   "version": "3.7.6"
  }
 },
 "nbformat": 4,
 "nbformat_minor": 4
}
