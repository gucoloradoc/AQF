{
 "cells": [
  {
   "cell_type": "markdown",
   "metadata": {},
   "source": [
    "# Data imputation\n",
    "In this notebook the inputation algorithms implemented are shown. This step is carried out in an Jupyter notebook with an R kernel available."
   ]
  },
  {
   "cell_type": "code",
   "execution_count": 13,
   "metadata": {},
   "outputs": [],
   "source": [
    "library(readr)\n",
    "library(imputeTS)"
   ]
  },
  {
   "cell_type": "code",
   "execution_count": 14,
   "metadata": {},
   "outputs": [],
   "source": [
    "#Imputation functions\n",
    "source(\"../code/imputation_functions.R\")\n",
    "#Cross-validation functions\n",
    "source('../code/imputation_functions.R')"
   ]
  },
  {
   "cell_type": "markdown",
   "metadata": {},
   "source": [
    "## Testing with the Nortweast station\n",
    "Here we are going to test the imputation algorithm with the Northwest station. "
   ]
  },
  {
   "cell_type": "code",
   "execution_count": 3,
   "metadata": {},
   "outputs": [],
   "source": [
    "station_data_path=\"../data/Monterrey/cleaned_station/NOROESTE.csv\"\n",
    "\n",
    "NOROESTE <- read_csv(station_data_path,\n",
    "    col_types = cols(FECHA = col_datetime(format = \"%Y-%m-%d %H:%M:%S\")))\n",
    "#View(NOROESTE)"
   ]
  },
  {
   "cell_type": "code",
   "execution_count": 4,
   "metadata": {},
   "outputs": [
    {
     "name": "stdout",
     "output_type": "stream",
     "text": [
      "Classes 'spec_tbl_df', 'tbl_df', 'tbl' and 'data.frame':\t52608 obs. of  16 variables:\n",
      " $ FECHA: POSIXct, format: \"2012-01-01 00:00:00\" \"2012-01-01 01:00:00\" ...\n",
      " $ CO   : num  2.08 5.2 2.51 3.33 1.26 0.91 1.68 1.06 0.66 0.66 ...\n",
      " $ NO   : num  16.6 154.4 47.4 96.7 10 ...\n",
      " $ NO2  : num  57.8 60.4 51.1 49 39.3 27.4 40 23.1 14.9 12.7 ...\n",
      " $ NOX  : num  74.4 214.8 98.5 145.7 49.3 ...\n",
      " $ O3   : num  5 8 4 6 7 8 3 12 22 25 ...\n",
      " $ PM10 : num  300 255 433 216 212 110 86 131 206 64 ...\n",
      " $ PM2.5: num  NA NA NA NA NA NA NA NA NA NA ...\n",
      " $ PRS  : num  716 716 716 716 717 ...\n",
      " $ RAINF: num  0 0 0 0 0 0 0 0 0 0 ...\n",
      " $ RH   : num  31 34 34 34 28 25 29 33 34 37 ...\n",
      " $ SO2  : num  14.5 16.5 10.9 9.9 7.5 6.4 6.7 6.5 6.5 6.4 ...\n",
      " $ SR   : num  0 0 0 0 0 0 0 0.006 0.062 0.06 ...\n",
      " $ TOUT : num  18.6 17.6 17.1 17 17.8 ...\n",
      " $ WDR  : num  330 295 332 310 317 318 281 37 111 220 ...\n",
      " $ WSR  : num  6.8 2.4 5.3 8.1 11 11.8 5.1 14.6 6 9.1 ...\n",
      " - attr(*, \"spec\")=\n",
      "  .. cols(\n",
      "  ..   FECHA = col_datetime(format = \"%Y-%m-%d %H:%M:%S\"),\n",
      "  ..   CO = col_double(),\n",
      "  ..   NO = col_double(),\n",
      "  ..   NO2 = col_double(),\n",
      "  ..   NOX = col_double(),\n",
      "  ..   O3 = col_double(),\n",
      "  ..   PM10 = col_double(),\n",
      "  ..   PM2.5 = col_double(),\n",
      "  ..   PRS = col_double(),\n",
      "  ..   RAINF = col_double(),\n",
      "  ..   RH = col_double(),\n",
      "  ..   SO2 = col_double(),\n",
      "  ..   SR = col_double(),\n",
      "  ..   TOUT = col_double(),\n",
      "  ..   WDR = col_double(),\n",
      "  ..   WSR = col_double()\n",
      "  .. )\n"
     ]
    }
   ],
   "source": [
    "str(NOROESTE)"
   ]
  },
  {
   "cell_type": "code",
   "execution_count": 5,
   "metadata": {},
   "outputs": [],
   "source": [
    "tsNOROESTE<-ts(NOROESTE, start = c(2012,0), frequency = 365.25*24)\n",
    "imputed <-Gerimputation(\"../data/Monterrey/cleaned_station/\",\"NOROESTE\")\n",
    "#save(imputed, file=\"../data/Monterrey/processed/NOROESTE.RData\") #the time series format get lost after saving.\n",
    "#write.csv(cbind(NOROESTE[,1],imputed), file=\"../data/Monterrey/processed/NOROESTE.csv\", row.names = FALSE)"
   ]
  },
  {
   "cell_type": "code",
   "execution_count": 6,
   "metadata": {},
   "outputs": [],
   "source": [
    "# Time series object to dataframe (For plotting purposes and easy handling)\n",
    "imputeddf<-data.frame(as.matrix(imputed),date=time(imputed))"
   ]
  },
  {
   "cell_type": "code",
   "execution_count": 7,
   "metadata": {},
   "outputs": [],
   "source": [
    "for (var in colnames(imputeddf)[-16])\n",
    "{\n",
    "    test_missing<-which(is.na(tsNOROESTE[,var]))\n",
    "    imputeddf[,paste(var,'_miss', sep=\"\")]<-'Not missing'\n",
    "    imputeddf[test_missing,paste(var,'_miss', sep=\"\")]<-'Missing'\n",
    "}"
   ]
  },
  {
   "cell_type": "code",
   "execution_count": 8,
   "metadata": {},
   "outputs": [
    {
     "data": {
      "text/html": [
       "<table>\n",
       "<thead><tr><th scope=col>CO</th><th scope=col>NO</th><th scope=col>NO2</th><th scope=col>NOX</th><th scope=col>O3</th><th scope=col>PM10</th><th scope=col>PM2.5</th><th scope=col>PRS</th><th scope=col>RAINF</th><th scope=col>RH</th><th scope=col>...</th><th scope=col>PM10_miss</th><th scope=col>PM2.5_miss</th><th scope=col>PRS_miss</th><th scope=col>RAINF_miss</th><th scope=col>RH_miss</th><th scope=col>SO2_miss</th><th scope=col>SR_miss</th><th scope=col>TOUT_miss</th><th scope=col>WDR_miss</th><th scope=col>WSR_miss</th></tr></thead>\n",
       "<tbody>\n",
       "\t<tr><td>2.08       </td><td> 16.6      </td><td>57.8       </td><td> 74.4      </td><td>5          </td><td>300        </td><td>18.55240   </td><td>715.8      </td><td>0          </td><td>31         </td><td>...        </td><td>Not missing</td><td>Missing    </td><td>Not missing</td><td>Not missing</td><td>Not missing</td><td>Not missing</td><td>Not missing</td><td>Not missing</td><td>Not missing</td><td>Not missing</td></tr>\n",
       "\t<tr><td>5.20       </td><td>154.4      </td><td>60.4       </td><td>214.8      </td><td>8          </td><td>255        </td><td>21.62368   </td><td>716.2      </td><td>0          </td><td>34         </td><td>...        </td><td>Not missing</td><td>Missing    </td><td>Not missing</td><td>Not missing</td><td>Not missing</td><td>Not missing</td><td>Not missing</td><td>Not missing</td><td>Not missing</td><td>Not missing</td></tr>\n",
       "\t<tr><td>2.51       </td><td> 47.4      </td><td>51.1       </td><td> 98.5      </td><td>4          </td><td>433        </td><td>23.59464   </td><td>716.5      </td><td>0          </td><td>34         </td><td>...        </td><td>Not missing</td><td>Missing    </td><td>Not missing</td><td>Not missing</td><td>Not missing</td><td>Not missing</td><td>Not missing</td><td>Not missing</td><td>Not missing</td><td>Not missing</td></tr>\n",
       "\t<tr><td>3.33       </td><td> 96.7      </td><td>49.0       </td><td>145.7      </td><td>6          </td><td>216        </td><td>33.93142   </td><td>716.5      </td><td>0          </td><td>34         </td><td>...        </td><td>Not missing</td><td>Missing    </td><td>Not missing</td><td>Not missing</td><td>Not missing</td><td>Not missing</td><td>Not missing</td><td>Not missing</td><td>Not missing</td><td>Not missing</td></tr>\n",
       "\t<tr><td>1.26       </td><td> 10.0      </td><td>39.3       </td><td> 49.3      </td><td>7          </td><td>212        </td><td>16.87847   </td><td>716.7      </td><td>0          </td><td>28         </td><td>...        </td><td>Not missing</td><td>Missing    </td><td>Not missing</td><td>Not missing</td><td>Not missing</td><td>Not missing</td><td>Not missing</td><td>Not missing</td><td>Not missing</td><td>Not missing</td></tr>\n",
       "\t<tr><td>0.91       </td><td>  6.2      </td><td>27.4       </td><td> 33.6      </td><td>8          </td><td>110        </td><td>18.43492   </td><td>717.3      </td><td>0          </td><td>25         </td><td>...        </td><td>Not missing</td><td>Missing    </td><td>Not missing</td><td>Not missing</td><td>Not missing</td><td>Not missing</td><td>Not missing</td><td>Not missing</td><td>Not missing</td><td>Not missing</td></tr>\n",
       "</tbody>\n",
       "</table>\n"
      ],
      "text/latex": [
       "\\begin{tabular}{r|lllllllllllllllllllllllllllllll}\n",
       " CO & NO & NO2 & NOX & O3 & PM10 & PM2.5 & PRS & RAINF & RH & ... & PM10\\_miss & PM2.5\\_miss & PRS\\_miss & RAINF\\_miss & RH\\_miss & SO2\\_miss & SR\\_miss & TOUT\\_miss & WDR\\_miss & WSR\\_miss\\\\\n",
       "\\hline\n",
       "\t 2.08        &  16.6       & 57.8        &  74.4       & 5           & 300         & 18.55240    & 715.8       & 0           & 31          & ...         & Not missing & Missing     & Not missing & Not missing & Not missing & Not missing & Not missing & Not missing & Not missing & Not missing\\\\\n",
       "\t 5.20        & 154.4       & 60.4        & 214.8       & 8           & 255         & 21.62368    & 716.2       & 0           & 34          & ...         & Not missing & Missing     & Not missing & Not missing & Not missing & Not missing & Not missing & Not missing & Not missing & Not missing\\\\\n",
       "\t 2.51        &  47.4       & 51.1        &  98.5       & 4           & 433         & 23.59464    & 716.5       & 0           & 34          & ...         & Not missing & Missing     & Not missing & Not missing & Not missing & Not missing & Not missing & Not missing & Not missing & Not missing\\\\\n",
       "\t 3.33        &  96.7       & 49.0        & 145.7       & 6           & 216         & 33.93142    & 716.5       & 0           & 34          & ...         & Not missing & Missing     & Not missing & Not missing & Not missing & Not missing & Not missing & Not missing & Not missing & Not missing\\\\\n",
       "\t 1.26        &  10.0       & 39.3        &  49.3       & 7           & 212         & 16.87847    & 716.7       & 0           & 28          & ...         & Not missing & Missing     & Not missing & Not missing & Not missing & Not missing & Not missing & Not missing & Not missing & Not missing\\\\\n",
       "\t 0.91        &   6.2       & 27.4        &  33.6       & 8           & 110         & 18.43492    & 717.3       & 0           & 25          & ...         & Not missing & Missing     & Not missing & Not missing & Not missing & Not missing & Not missing & Not missing & Not missing & Not missing\\\\\n",
       "\\end{tabular}\n"
      ],
      "text/markdown": [
       "\n",
       "| CO | NO | NO2 | NOX | O3 | PM10 | PM2.5 | PRS | RAINF | RH | ... | PM10_miss | PM2.5_miss | PRS_miss | RAINF_miss | RH_miss | SO2_miss | SR_miss | TOUT_miss | WDR_miss | WSR_miss |\n",
       "|---|---|---|---|---|---|---|---|---|---|---|---|---|---|---|---|---|---|---|---|---|\n",
       "| 2.08        |  16.6       | 57.8        |  74.4       | 5           | 300         | 18.55240    | 715.8       | 0           | 31          | ...         | Not missing | Missing     | Not missing | Not missing | Not missing | Not missing | Not missing | Not missing | Not missing | Not missing |\n",
       "| 5.20        | 154.4       | 60.4        | 214.8       | 8           | 255         | 21.62368    | 716.2       | 0           | 34          | ...         | Not missing | Missing     | Not missing | Not missing | Not missing | Not missing | Not missing | Not missing | Not missing | Not missing |\n",
       "| 2.51        |  47.4       | 51.1        |  98.5       | 4           | 433         | 23.59464    | 716.5       | 0           | 34          | ...         | Not missing | Missing     | Not missing | Not missing | Not missing | Not missing | Not missing | Not missing | Not missing | Not missing |\n",
       "| 3.33        |  96.7       | 49.0        | 145.7       | 6           | 216         | 33.93142    | 716.5       | 0           | 34          | ...         | Not missing | Missing     | Not missing | Not missing | Not missing | Not missing | Not missing | Not missing | Not missing | Not missing |\n",
       "| 1.26        |  10.0       | 39.3        |  49.3       | 7           | 212         | 16.87847    | 716.7       | 0           | 28          | ...         | Not missing | Missing     | Not missing | Not missing | Not missing | Not missing | Not missing | Not missing | Not missing | Not missing |\n",
       "| 0.91        |   6.2       | 27.4        |  33.6       | 8           | 110         | 18.43492    | 717.3       | 0           | 25          | ...         | Not missing | Missing     | Not missing | Not missing | Not missing | Not missing | Not missing | Not missing | Not missing | Not missing |\n",
       "\n"
      ],
      "text/plain": [
       "  CO   NO    NO2  NOX   O3 PM10 PM2.5    PRS   RAINF RH ... PM10_miss  \n",
       "1 2.08  16.6 57.8  74.4 5  300  18.55240 715.8 0     31 ... Not missing\n",
       "2 5.20 154.4 60.4 214.8 8  255  21.62368 716.2 0     34 ... Not missing\n",
       "3 2.51  47.4 51.1  98.5 4  433  23.59464 716.5 0     34 ... Not missing\n",
       "4 3.33  96.7 49.0 145.7 6  216  33.93142 716.5 0     34 ... Not missing\n",
       "5 1.26  10.0 39.3  49.3 7  212  16.87847 716.7 0     28 ... Not missing\n",
       "6 0.91   6.2 27.4  33.6 8  110  18.43492 717.3 0     25 ... Not missing\n",
       "  PM2.5_miss PRS_miss    RAINF_miss  RH_miss     SO2_miss    SR_miss    \n",
       "1 Missing    Not missing Not missing Not missing Not missing Not missing\n",
       "2 Missing    Not missing Not missing Not missing Not missing Not missing\n",
       "3 Missing    Not missing Not missing Not missing Not missing Not missing\n",
       "4 Missing    Not missing Not missing Not missing Not missing Not missing\n",
       "5 Missing    Not missing Not missing Not missing Not missing Not missing\n",
       "6 Missing    Not missing Not missing Not missing Not missing Not missing\n",
       "  TOUT_miss   WDR_miss    WSR_miss   \n",
       "1 Not missing Not missing Not missing\n",
       "2 Not missing Not missing Not missing\n",
       "3 Not missing Not missing Not missing\n",
       "4 Not missing Not missing Not missing\n",
       "5 Not missing Not missing Not missing\n",
       "6 Not missing Not missing Not missing"
      ]
     },
     "metadata": {},
     "output_type": "display_data"
    }
   ],
   "source": [
    "head(imputeddf)"
   ]
  },
  {
   "cell_type": "code",
   "execution_count": 9,
   "metadata": {},
   "outputs": [],
   "source": [
    "write.csv(imputeddf, '../data/Monterrey/processed/northweast_imputations.csv')"
   ]
  },
  {
   "cell_type": "markdown",
   "metadata": {},
   "source": [
    "## Creating partitions for cross validation"
   ]
  },
  {
   "cell_type": "code",
   "execution_count": 16,
   "metadata": {},
   "outputs": [],
   "source": [
    "require(caret)\n",
    "flds <- createFolds(NOROESTE, k = 10, list = TRUE, returnTrain = FALSE)"
   ]
  },
  {
   "cell_type": "code",
   "execution_count": 24,
   "metadata": {},
   "outputs": [
    {
     "data": {
      "text/html": [
       "<strong>$Fold5</strong> = 15"
      ],
      "text/latex": [
       "\\textbf{\\$Fold5} = 15"
      ],
      "text/markdown": [
       "**$Fold5** = 15"
      ],
      "text/plain": [
       "$Fold5\n",
       "[1] 15\n"
      ]
     },
     "metadata": {},
     "output_type": "display_data"
    }
   ],
   "source": [
    "flds[5]"
   ]
  },
  {
   "cell_type": "markdown",
   "metadata": {},
   "source": [
    "### Multiseasonal decomposition of PM2.5 "
   ]
  },
  {
   "cell_type": "code",
   "execution_count": 14,
   "metadata": {},
   "outputs": [],
   "source": [
    "#Seasonalidad, diaria no capturada\n",
    "imputeddecomposed <-decompose(imputed[,'PM2.5'])\n",
    "#plot(imputeddecomposed)"
   ]
  },
  {
   "cell_type": "code",
   "execution_count": 15,
   "metadata": {},
   "outputs": [
    {
     "name": "stdout",
     "output_type": "stream",
     "text": [
      "List of 6\n",
      " $ x       : Time-Series [1:52608] from 2012 to 2018: 18.6 21.6 23.6 33.9 16.9 ...\n",
      " $ seasonal: Time-Series [1:52608] from 2012 to 2018: 16.53 35.5 10.56 3.38 4.22 ...\n",
      " $ trend   : Time-Series [1:52608] from 2012 to 2018: NA NA NA NA NA NA NA NA NA NA ...\n",
      " $ random  : Time-Series [1:52608] from 2012 to 2018: NA NA NA NA NA NA NA NA NA NA ...\n",
      " $ figure  : num [1:8766] 16.53 35.5 10.56 3.38 4.22 ...\n",
      " $ type    : chr \"additive\"\n",
      " - attr(*, \"class\")= chr \"decomposed.ts\"\n"
     ]
    }
   ],
   "source": [
    "str(imputeddecomposed)"
   ]
  },
  {
   "cell_type": "code",
   "execution_count": 16,
   "metadata": {},
   "outputs": [
    {
     "name": "stderr",
     "output_type": "stream",
     "text": [
      "Warning message:\n",
      "\"package 'ggfortify' was built under R version 3.6.2\"Loading required package: ggplot2\n",
      "Registered S3 methods overwritten by 'ggfortify':\n",
      "  method                 from    \n",
      "  autoplot.Arima         forecast\n",
      "  autoplot.acf           forecast\n",
      "  autoplot.ar            forecast\n",
      "  autoplot.bats          forecast\n",
      "  autoplot.decomposed.ts forecast\n",
      "  autoplot.ets           forecast\n",
      "  autoplot.forecast      forecast\n",
      "  autoplot.stl           forecast\n",
      "  autoplot.ts            forecast\n",
      "  fitted.ar              forecast\n",
      "  fortify.ts             forecast\n",
      "  residuals.ar           forecast\n"
     ]
    }
   ],
   "source": [
    "library(ggfortify)\n",
    "decomposedexpladf<- fortify(imputeddecomposed)"
   ]
  },
  {
   "cell_type": "code",
   "execution_count": 13,
   "metadata": {},
   "outputs": [],
   "source": [
    "write.csv(decomposedexpladf, '../data/Monterrey/processed/northweast_pm5_decomposed.csv')"
   ]
  },
  {
   "cell_type": "markdown",
   "metadata": {},
   "source": [
    "### Seasonal RAINF"
   ]
  },
  {
   "cell_type": "code",
   "execution_count": 15,
   "metadata": {},
   "outputs": [],
   "source": [
    "#Seasonalidad, diaria no capturada\n",
    "imputeddecomposed <-decompose(imputed[,'RAINF'])\n",
    "library(ggfortify)\n",
    "decomposedexpladf<- fortify(imputeddecomposed)\n",
    "write.csv(decomposedexpladf, '../data/Monterrey/processed/northweast_RAINF_decomposed.csv')"
   ]
  },
  {
   "cell_type": "markdown",
   "metadata": {},
   "source": [
    "### Visualize imputations"
   ]
  },
  {
   "cell_type": "markdown",
   "metadata": {},
   "source": [
    "All the imputations for the northwest measurement station"
   ]
  },
  {
   "cell_type": "code",
   "execution_count": 9,
   "metadata": {},
   "outputs": [
    {
     "name": "stderr",
     "output_type": "stream",
     "text": [
      "Warning message:\n",
      "\"package 'gridExtra' was built under R version 3.6.2\""
     ]
    }
   ],
   "source": [
    "library(ggplot2)\n",
    "library(gridExtra)\n",
    "library(grid)\n",
    "library(lattice)"
   ]
  },
  {
   "cell_type": "code",
   "execution_count": 10,
   "metadata": {},
   "outputs": [],
   "source": [
    "co_plot <-ggplot(imputeddf, aes(x=date, y=CO, color=CO_miss))  +geom_point(size=0.5, alpha=0.5) +theme_bw() + theme(legend.position = \"none\", axis.title.x=element_text(face='plain',size=7), axis.text.x=element_text(face='plain',size=7))\n",
    "no_plot <-ggplot(imputeddf, aes(x=date, y=NO, color=NO_miss))  +geom_point(size=0.5, alpha=0.5) +theme_bw() + theme(legend.position = \"none\")\n",
    "no2_plot <-ggplot(imputeddf, aes(x=date, y=NO2, color=NO2_miss))  +geom_point(size=0.5, alpha=0.5) +theme_bw() + theme(legend.position = \"none\")\n",
    "nox_plot <-ggplot(imputeddf, aes(x=date, y=NOX, color=NOX_miss))  +geom_point(size=0.5, alpha=0.5) +theme_bw() + theme(legend.position = \"none\")\n",
    "o3_plot <-ggplot(imputeddf, aes(x=date, y=O3, color=O3_miss))  +geom_point(size=0.5, alpha=0.5) +theme_bw() + theme(legend.position = \"none\")\n",
    "pm10_plot <-ggplot(imputeddf, aes(x=date, y=PM10, color=PM10_miss))  +geom_point(size=0.5, alpha=0.5) +theme_bw() + theme(legend.position = \"none\")\n",
    "pm25_plot <-ggplot(imputeddf, aes(x=date, y=PM2.5, color=PM2.5_miss))  +geom_point(size=0.5, alpha=0.5) +theme_bw() + theme(legend.position = \"none\")\n",
    "psr_plot <-ggplot(imputeddf, aes(x=date, y=PRS, color=PRS_miss))  +geom_point(size=0.5, alpha=0.5) +theme_bw() + theme(legend.position = \"none\")\n",
    "rainf_plot <-ggplot(imputeddf, aes(x=date, y=RAINF, color=RAINF_miss))  +geom_point(size=0.5, alpha=0.5) +theme_bw() + theme(legend.position = \"none\")\n",
    "rh_plot <-ggplot(imputeddf, aes(x=date, y=RH, color=RH_miss))  +geom_point(size=0.5, alpha=0.5) +theme_bw() + theme(legend.position = \"none\")\n",
    "so2_plot <-ggplot(imputeddf, aes(x=date, y=SO2, color=SO2_miss))  +geom_point(size=0.5, alpha=0.5) +theme_bw() +theme(legend.position = \"none\")\n",
    "sr_plot <-ggplot(imputeddf, aes(x=date, y=SR, color=SR_miss))  +geom_point(size=0.5, alpha=0.5) +theme_bw() + theme(legend.position = \"none\")\n",
    "tout_plot <-ggplot(imputeddf, aes(x=date, y=TOUT, color=TOUT_miss))  +geom_point(size=0.5, alpha=0.5) +theme_bw() + theme(legend.position = \"none\")\n",
    "wdr_plot <-ggplot(imputeddf, aes(x=date, y=WDR, color=WDR_miss))  +geom_point(size=0.5, alpha=0.5) +theme_bw() + theme(legend.position = \"none\")\n",
    "wsr_plot <-ggplot(imputeddf, aes(x=date, y=WSR, color=WSR_miss))  +geom_point(size=0.5, alpha=0.5) +theme_bw() + theme(legend.position = \"none\")"
   ]
  },
  {
   "cell_type": "code",
   "execution_count": 11,
   "metadata": {},
   "outputs": [
    {
     "name": "stderr",
     "output_type": "stream",
     "text": [
      "Don't know how to automatically pick scale for object of type ts. Defaulting to continuous.\n",
      "Don't know how to automatically pick scale for object of type ts. Defaulting to continuous.\n",
      "Don't know how to automatically pick scale for object of type ts. Defaulting to continuous.\n",
      "Don't know how to automatically pick scale for object of type ts. Defaulting to continuous.\n",
      "Don't know how to automatically pick scale for object of type ts. Defaulting to continuous.\n",
      "Don't know how to automatically pick scale for object of type ts. Defaulting to continuous.\n",
      "Don't know how to automatically pick scale for object of type ts. Defaulting to continuous.\n",
      "Don't know how to automatically pick scale for object of type ts. Defaulting to continuous.\n",
      "Don't know how to automatically pick scale for object of type ts. Defaulting to continuous.\n",
      "Don't know how to automatically pick scale for object of type ts. Defaulting to continuous.\n",
      "Don't know how to automatically pick scale for object of type ts. Defaulting to continuous.\n",
      "Don't know how to automatically pick scale for object of type ts. Defaulting to continuous.\n",
      "Don't know how to automatically pick scale for object of type ts. Defaulting to continuous.\n",
      "Don't know how to automatically pick scale for object of type ts. Defaulting to continuous.\n",
      "Don't know how to automatically pick scale for object of type ts. Defaulting to continuous.\n"
     ]
    },
    {
     "data": {
      "image/png": "[encoded data removed]",
      "text/plain": [
       "plot without title"
      ]
     },
     "metadata": {},
     "output_type": "display_data"
    }
   ],
   "source": [
    "grid.arrange(o3_plot,pm25_plot,pm10_plot,co_plot,no_plot,no2_plot,nox_plot, psr_plot, rainf_plot, rh_plot, so2_plot, sr_plot, tout_plot, wdr_plot, wsr_plot, ncol=3)"
   ]
  },
  {
   "cell_type": "code",
   "execution_count": null,
   "metadata": {},
   "outputs": [],
   "source": []
  }
 ],
 "metadata": {
  "kernelspec": {
   "display_name": "R",
   "language": "R",
   "name": "ir"
  },
  "language_info": {
   "codemirror_mode": "r",
   "file_extension": ".r",
   "mimetype": "text/x-r-source",
   "name": "R",
   "pygments_lexer": "r",
   "version": "3.6.1"
  }
 },
 "nbformat": 4,
 "nbformat_minor": 4
}
